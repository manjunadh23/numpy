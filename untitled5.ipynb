{
  "nbformat": 4,
  "nbformat_minor": 0,
  "metadata": {
    "colab": {
      "provenance": [],
      "authorship_tag": "ABX9TyNvjnOUXi/7GKlmztpeKANW",
      "include_colab_link": true
    },
    "kernelspec": {
      "name": "python3",
      "display_name": "Python 3"
    },
    "language_info": {
      "name": "python"
    }
  },
  "cells": [
    {
      "cell_type": "markdown",
      "metadata": {
        "id": "view-in-github",
        "colab_type": "text"
      },
      "source": [
        "<a href=\"https://colab.research.google.com/github/manjunadh23/numpy/blob/main/untitled5.ipynb\" target=\"_parent\"><img src=\"https://colab.research.google.com/assets/colab-badge.svg\" alt=\"Open In Colab\"/></a>"
      ]
    },
    {
      "cell_type": "code",
      "execution_count": null,
      "metadata": {
        "colab": {
          "base_uri": "https://localhost:8080/"
        },
        "id": "ufE2TitEns-O",
        "outputId": "5dd369b5-4a05-41bd-ff51-f05ec0e75735"
      },
      "outputs": [
        {
          "output_type": "stream",
          "name": "stdout",
          "text": [
            "[1 2 3]\n"
          ]
        }
      ],
      "source": [
        "import numpy as np\n",
        "x=np.array([1,2,3])\n",
        "print(x)"
      ]
    },
    {
      "cell_type": "code",
      "source": [
        "y=np.array([[6,7,8],[9,10,11]])\n",
        "print(y)"
      ],
      "metadata": {
        "colab": {
          "base_uri": "https://localhost:8080/"
        },
        "id": "tHTU-MrhoD8Z",
        "outputId": "d5a58340-5f08-41b0-b0dd-4e0e89efc1a0"
      },
      "execution_count": null,
      "outputs": [
        {
          "output_type": "stream",
          "name": "stdout",
          "text": [
            "[[ 6  7  8]\n",
            " [ 9 10 11]]\n"
          ]
        }
      ]
    },
    {
      "cell_type": "code",
      "source": [
        "import numpy as np\n",
        "np.arange(25,45,10)"
      ],
      "metadata": {
        "colab": {
          "base_uri": "https://localhost:8080/"
        },
        "id": "ohzVD1NOoPzy",
        "outputId": "42021124-2f5f-4c07-aca3-2a6f8abb43d6"
      },
      "execution_count": null,
      "outputs": [
        {
          "output_type": "execute_result",
          "data": {
            "text/plain": [
              "array([25, 35])"
            ]
          },
          "metadata": {},
          "execution_count": 9
        }
      ]
    },
    {
      "cell_type": "code",
      "source": [
        "a=np.append(y,[1,2,4])\n",
        "print(a)"
      ],
      "metadata": {
        "colab": {
          "base_uri": "https://localhost:8080/"
        },
        "id": "lD-Prlu3obqm",
        "outputId": "bc44c359-43bb-4520-f7f1-f9e6a4327ba1"
      },
      "execution_count": null,
      "outputs": [
        {
          "output_type": "stream",
          "name": "stdout",
          "text": [
            "[ 6  7  8  9 10 11  1  2  4]\n"
          ]
        }
      ]
    },
    {
      "cell_type": "code",
      "source": [
        "a=np.delete(x,1)\n",
        "print(a)"
      ],
      "metadata": {
        "colab": {
          "base_uri": "https://localhost:8080/"
        },
        "id": "-X_PCO3Zo9Tc",
        "outputId": "8ac5d3af-3e21-45cc-b4db-5c0b4dc135eb"
      },
      "execution_count": null,
      "outputs": [
        {
          "output_type": "stream",
          "name": "stdout",
          "text": [
            "[1 3]\n"
          ]
        }
      ]
    },
    {
      "cell_type": "code",
      "source": [
        "b=np.array([1,2,3,4,5,6,7])\n",
        "b[b>=5]=5\n",
        "print(b)"
      ],
      "metadata": {
        "colab": {
          "base_uri": "https://localhost:8080/"
        },
        "id": "aZubHUaKpSxD",
        "outputId": "51804d4b-9c15-42c8-a2ee-2b414ab281bb"
      },
      "execution_count": null,
      "outputs": [
        {
          "output_type": "stream",
          "name": "stdout",
          "text": [
            "[1 2 3 4 5 5 5]\n"
          ]
        }
      ]
    },
    {
      "cell_type": "code",
      "source": [
        "c=np.array([1,9,8,7,6,5])\n",
        "n=np.array([34,56,78,98,54,89])\n",
        "print(c+n)\n",
        "print(c-n)\n",
        "print(c*n)\n",
        "print(c/n)\n",
        "print(c//n)\n",
        "print(c%n)"
      ],
      "metadata": {
        "colab": {
          "base_uri": "https://localhost:8080/"
        },
        "id": "3ipt8cK0pzAv",
        "outputId": "79d2bc5d-baff-499d-9101-1dd543e50313"
      },
      "execution_count": null,
      "outputs": [
        {
          "output_type": "stream",
          "name": "stdout",
          "text": [
            "[ 35  65  86 105  60  94]\n",
            "[-33 -47 -70 -91 -48 -84]\n",
            "[ 34 504 624 686 324 445]\n",
            "[0.02941176 0.16071429 0.1025641  0.07142857 0.11111111 0.05617978]\n",
            "[0 0 0 0 0 0]\n",
            "[1 9 8 7 6 5]\n"
          ]
        }
      ]
    },
    {
      "cell_type": "code",
      "source": [
        "m=np.array([12,34,56,78,90])\n",
        "print(m[0])\n",
        "print(m[4])\n",
        "print(m[-1])\n",
        "print(m[-5:-2])\n",
        "print(m[1:4])"
      ],
      "metadata": {
        "colab": {
          "base_uri": "https://localhost:8080/"
        },
        "id": "ERQrycamqm56",
        "outputId": "49d4f0db-6761-4441-e357-6eaf1d1bcd71"
      },
      "execution_count": null,
      "outputs": [
        {
          "output_type": "stream",
          "name": "stdout",
          "text": [
            "12\n",
            "90\n",
            "90\n",
            "[12 34 56]\n",
            "[34 56 78]\n"
          ]
        }
      ]
    },
    {
      "cell_type": "code",
      "source": [
        "z=np.arange(12).reshape(4,3)**2\n",
        "print(z)\n",
        "print(z[1])\n",
        "print(z[1:3])\n",
        "print(z[-2:-1])\n",
        "print(z[2:3,1:3])\n",
        "print(z[-3:-1,-1])\n"
      ],
      "metadata": {
        "colab": {
          "base_uri": "https://localhost:8080/"
        },
        "id": "HTXRDqJ0rSKb",
        "outputId": "4b8f4b3a-69d7-4cb3-926d-75cf536b8316"
      },
      "execution_count": null,
      "outputs": [
        {
          "output_type": "stream",
          "name": "stdout",
          "text": [
            "[[  0   1   4]\n",
            " [  9  16  25]\n",
            " [ 36  49  64]\n",
            " [ 81 100 121]]\n",
            "[ 9 16 25]\n",
            "[[ 9 16 25]\n",
            " [36 49 64]]\n",
            "[[36 49 64]]\n",
            "[[49 64]]\n",
            "[25 64]\n"
          ]
        }
      ]
    },
    {
      "cell_type": "code",
      "source": [
        "q=np.arange(20).reshape(5,4)**5\n",
        "for i in q:\n",
        "  print(i**2)"
      ],
      "metadata": {
        "colab": {
          "base_uri": "https://localhost:8080/"
        },
        "id": "GdEin6XSthVB",
        "outputId": "9dce4b1f-81fd-4afb-f217-c343e78d746f"
      },
      "execution_count": null,
      "outputs": [
        {
          "output_type": "stream",
          "name": "stdout",
          "text": [
            "[    0     1  1024 59049]\n",
            "[  1048576   9765625  60466176 282475249]\n",
            "[ 1073741824  3486784401 10000000000 25937424601]\n",
            "[ 61917364224 137858491849 289254654976 576650390625]\n",
            "[1099511627776 2015993900449 3570467226624 6131066257801]\n"
          ]
        }
      ]
    },
    {
      "cell_type": "code",
      "source": [
        "q=np.arange(20).reshape(5,4)**5\n",
        "print(q)\n",
        "print(q.reshape(4,5))\n",
        "print(q.ravel)\n",
        "print(q.T)"
      ],
      "metadata": {
        "colab": {
          "base_uri": "https://localhost:8080/"
        },
        "id": "tktnVjYit2Pa",
        "outputId": "c1e8c9c1-a0d2-4a6b-f0c7-df17b53c6688"
      },
      "execution_count": null,
      "outputs": [
        {
          "output_type": "stream",
          "name": "stdout",
          "text": [
            "[[      0       1      32     243]\n",
            " [   1024    3125    7776   16807]\n",
            " [  32768   59049  100000  161051]\n",
            " [ 248832  371293  537824  759375]\n",
            " [1048576 1419857 1889568 2476099]]\n",
            "[[      0       1      32     243    1024]\n",
            " [   3125    7776   16807   32768   59049]\n",
            " [ 100000  161051  248832  371293  537824]\n",
            " [ 759375 1048576 1419857 1889568 2476099]]\n",
            "<built-in method ravel of numpy.ndarray object at 0x7ff74ee314d0>\n",
            "[[      0    1024   32768  248832 1048576]\n",
            " [      1    3125   59049  371293 1419857]\n",
            " [     32    7776  100000  537824 1889568]\n",
            " [    243   16807  161051  759375 2476099]]\n"
          ]
        }
      ]
    }
  ]
}